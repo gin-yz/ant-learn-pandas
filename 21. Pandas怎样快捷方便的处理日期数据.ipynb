{
 "cells": [
  {
   "cell_type": "markdown",
   "metadata": {},
   "source": [
    "# Pandas怎样快捷方便的处理日期数据\n",
    "\n",
    "Pandas日期处理的作用：将2018-01-01、1/1/2018等多种日期格式映射成统一的格式对象，在该对象上提供强大的功能支持\n",
    "\n",
    "几个概念：\n",
    "1. pd.to_datetime：pandas的一个函数，能将字符串、列表、series变成日期形式\n",
    "2. Timestamp：pandas表示日期的对象形式\n",
    "3. DatetimeIndex：pandas表示日期的对象列表形式\n",
    "\n",
    "其中：\n",
    "* DatetimeIndex是Timestamp的列表形式\n",
    "* pd.to_datetime对单个日期字符串处理会得到Timestamp\n",
    "* pd.to_datetime对日期字符串列表处理会得到DatetimeIndex\n",
    "\n",
    "<img src=\"./other_files/pandas-todatetime-timestamp-datetimeindex.png\" style=\"margin-left:0px\"/>"
   ]
  },
  {
   "cell_type": "markdown",
   "metadata": {},
   "source": [
    "### 问题：怎样统计每周、每月、每季度的最高温度？"
   ]
  },
  {
   "cell_type": "markdown",
   "metadata": {},
   "source": [
    "### 1、读取天气数据到dataframe"
   ]
  },
  {
   "cell_type": "code",
   "execution_count": 21,
   "metadata": {},
   "outputs": [],
   "source": [
    "import pandas as pd\n",
    "%matplotlib inline"
   ]
  },
  {
   "cell_type": "code",
   "execution_count": 22,
   "metadata": {},
   "outputs": [
    {
     "data": {
      "text/plain": "          ymd  bWendu  yWendu tianqi fengxiang fengli  aqi aqiInfo  aqiLevel\n0  2018-01-01       3      -6   晴~多云       东北风   1-2级   59       良         2\n1  2018-01-02       2      -5   阴~多云       东北风   1-2级   49       优         1\n2  2018-01-03       2      -5     多云        北风   1-2级   28       优         1\n3  2018-01-04       0      -8      阴       东北风   1-2级   28       优         1\n4  2018-01-05       3      -6   多云~晴       西北风   1-2级   50       优         1",
      "text/html": "<div>\n<style scoped>\n    .dataframe tbody tr th:only-of-type {\n        vertical-align: middle;\n    }\n\n    .dataframe tbody tr th {\n        vertical-align: top;\n    }\n\n    .dataframe thead th {\n        text-align: right;\n    }\n</style>\n<table border=\"1\" class=\"dataframe\">\n  <thead>\n    <tr style=\"text-align: right;\">\n      <th></th>\n      <th>ymd</th>\n      <th>bWendu</th>\n      <th>yWendu</th>\n      <th>tianqi</th>\n      <th>fengxiang</th>\n      <th>fengli</th>\n      <th>aqi</th>\n      <th>aqiInfo</th>\n      <th>aqiLevel</th>\n    </tr>\n  </thead>\n  <tbody>\n    <tr>\n      <th>0</th>\n      <td>2018-01-01</td>\n      <td>3</td>\n      <td>-6</td>\n      <td>晴~多云</td>\n      <td>东北风</td>\n      <td>1-2级</td>\n      <td>59</td>\n      <td>良</td>\n      <td>2</td>\n    </tr>\n    <tr>\n      <th>1</th>\n      <td>2018-01-02</td>\n      <td>2</td>\n      <td>-5</td>\n      <td>阴~多云</td>\n      <td>东北风</td>\n      <td>1-2级</td>\n      <td>49</td>\n      <td>优</td>\n      <td>1</td>\n    </tr>\n    <tr>\n      <th>2</th>\n      <td>2018-01-03</td>\n      <td>2</td>\n      <td>-5</td>\n      <td>多云</td>\n      <td>北风</td>\n      <td>1-2级</td>\n      <td>28</td>\n      <td>优</td>\n      <td>1</td>\n    </tr>\n    <tr>\n      <th>3</th>\n      <td>2018-01-04</td>\n      <td>0</td>\n      <td>-8</td>\n      <td>阴</td>\n      <td>东北风</td>\n      <td>1-2级</td>\n      <td>28</td>\n      <td>优</td>\n      <td>1</td>\n    </tr>\n    <tr>\n      <th>4</th>\n      <td>2018-01-05</td>\n      <td>3</td>\n      <td>-6</td>\n      <td>多云~晴</td>\n      <td>西北风</td>\n      <td>1-2级</td>\n      <td>50</td>\n      <td>优</td>\n      <td>1</td>\n    </tr>\n  </tbody>\n</table>\n</div>"
     },
     "execution_count": 22,
     "metadata": {},
     "output_type": "execute_result"
    }
   ],
   "source": [
    "fpath = \"./datas/beijing_tianqi/beijing_tianqi_2018.csv\"\n",
    "df = pd.read_csv(fpath)\n",
    "# 替换掉温度的后缀℃\n",
    "df.loc[:, \"bWendu\"] = df[\"bWendu\"].str.replace(\"℃\", \"\").astype('int32')\n",
    "df.loc[:, \"yWendu\"] = df[\"yWendu\"].str.replace(\"℃\", \"\").astype('int32')\n",
    "df.head()"
   ]
  },
  {
   "cell_type": "markdown",
   "metadata": {},
   "source": [
    "### 2、将日期列转换成pandas的日期"
   ]
  },
  {
   "cell_type": "code",
   "execution_count": 3,
   "metadata": {},
   "outputs": [],
   "source": [
    "df.set_index(pd.to_datetime(df[\"ymd\"]), inplace=True)"
   ]
  },
  {
   "cell_type": "code",
   "execution_count": 4,
   "metadata": {},
   "outputs": [
    {
     "data": {
      "text/plain": "                   ymd  bWendu  yWendu tianqi fengxiang fengli  aqi aqiInfo  \\\nymd                                                                           \n2018-01-01  2018-01-01       3      -6   晴~多云       东北风   1-2级   59       良   \n2018-01-02  2018-01-02       2      -5   阴~多云       东北风   1-2级   49       优   \n2018-01-03  2018-01-03       2      -5     多云        北风   1-2级   28       优   \n2018-01-04  2018-01-04       0      -8      阴       东北风   1-2级   28       优   \n2018-01-05  2018-01-05       3      -6   多云~晴       西北风   1-2级   50       优   \n\n            aqiLevel  \nymd                   \n2018-01-01         2  \n2018-01-02         1  \n2018-01-03         1  \n2018-01-04         1  \n2018-01-05         1  ",
      "text/html": "<div>\n<style scoped>\n    .dataframe tbody tr th:only-of-type {\n        vertical-align: middle;\n    }\n\n    .dataframe tbody tr th {\n        vertical-align: top;\n    }\n\n    .dataframe thead th {\n        text-align: right;\n    }\n</style>\n<table border=\"1\" class=\"dataframe\">\n  <thead>\n    <tr style=\"text-align: right;\">\n      <th></th>\n      <th>ymd</th>\n      <th>bWendu</th>\n      <th>yWendu</th>\n      <th>tianqi</th>\n      <th>fengxiang</th>\n      <th>fengli</th>\n      <th>aqi</th>\n      <th>aqiInfo</th>\n      <th>aqiLevel</th>\n    </tr>\n    <tr>\n      <th>ymd</th>\n      <th></th>\n      <th></th>\n      <th></th>\n      <th></th>\n      <th></th>\n      <th></th>\n      <th></th>\n      <th></th>\n      <th></th>\n    </tr>\n  </thead>\n  <tbody>\n    <tr>\n      <th>2018-01-01</th>\n      <td>2018-01-01</td>\n      <td>3</td>\n      <td>-6</td>\n      <td>晴~多云</td>\n      <td>东北风</td>\n      <td>1-2级</td>\n      <td>59</td>\n      <td>良</td>\n      <td>2</td>\n    </tr>\n    <tr>\n      <th>2018-01-02</th>\n      <td>2018-01-02</td>\n      <td>2</td>\n      <td>-5</td>\n      <td>阴~多云</td>\n      <td>东北风</td>\n      <td>1-2级</td>\n      <td>49</td>\n      <td>优</td>\n      <td>1</td>\n    </tr>\n    <tr>\n      <th>2018-01-03</th>\n      <td>2018-01-03</td>\n      <td>2</td>\n      <td>-5</td>\n      <td>多云</td>\n      <td>北风</td>\n      <td>1-2级</td>\n      <td>28</td>\n      <td>优</td>\n      <td>1</td>\n    </tr>\n    <tr>\n      <th>2018-01-04</th>\n      <td>2018-01-04</td>\n      <td>0</td>\n      <td>-8</td>\n      <td>阴</td>\n      <td>东北风</td>\n      <td>1-2级</td>\n      <td>28</td>\n      <td>优</td>\n      <td>1</td>\n    </tr>\n    <tr>\n      <th>2018-01-05</th>\n      <td>2018-01-05</td>\n      <td>3</td>\n      <td>-6</td>\n      <td>多云~晴</td>\n      <td>西北风</td>\n      <td>1-2级</td>\n      <td>50</td>\n      <td>优</td>\n      <td>1</td>\n    </tr>\n  </tbody>\n</table>\n</div>"
     },
     "execution_count": 4,
     "metadata": {},
     "output_type": "execute_result"
    }
   ],
   "source": [
    "df.head()"
   ]
  },
  {
   "cell_type": "code",
   "execution_count": 5,
   "metadata": {},
   "outputs": [
    {
     "data": {
      "text/plain": "DatetimeIndex(['2018-01-01', '2018-01-02', '2018-01-03', '2018-01-04',\n               '2018-01-05', '2018-01-06', '2018-01-07', '2018-01-08',\n               '2018-01-09', '2018-01-10',\n               ...\n               '2018-12-22', '2018-12-23', '2018-12-24', '2018-12-25',\n               '2018-12-26', '2018-12-27', '2018-12-28', '2018-12-29',\n               '2018-12-30', '2018-12-31'],\n              dtype='datetime64[ns]', name='ymd', length=365, freq=None)"
     },
     "execution_count": 5,
     "metadata": {},
     "output_type": "execute_result"
    }
   ],
   "source": [
    "df.index"
   ]
  },
  {
   "cell_type": "code",
   "execution_count": 6,
   "metadata": {},
   "outputs": [
    {
     "data": {
      "text/plain": "Timestamp('2018-01-01 00:00:00')"
     },
     "execution_count": 6,
     "metadata": {},
     "output_type": "execute_result"
    }
   ],
   "source": [
    "# DatetimeIndex是Timestamp的列表形式\n",
    "df.index[0]"
   ]
  },
  {
   "cell_type": "markdown",
   "metadata": {},
   "source": [
    "### 3、 方便的对DatetimeIndex进行查询"
   ]
  },
  {
   "cell_type": "code",
   "execution_count": 7,
   "metadata": {},
   "outputs": [
    {
     "data": {
      "text/plain": "ymd          2018-01-05\nbWendu                3\nyWendu               -6\ntianqi             多云~晴\nfengxiang           西北风\nfengli             1-2级\naqi                  50\naqiInfo               优\naqiLevel              1\nName: 2018-01-05 00:00:00, dtype: object"
     },
     "execution_count": 7,
     "metadata": {},
     "output_type": "execute_result"
    }
   ],
   "source": [
    "# 筛选固定的某一天\n",
    "df.loc['2018-01-05']"
   ]
  },
  {
   "cell_type": "code",
   "execution_count": 8,
   "metadata": {},
   "outputs": [
    {
     "data": {
      "text/plain": "                   ymd  bWendu  yWendu tianqi fengxiang fengli  aqi aqiInfo  \\\nymd                                                                           \n2018-01-05  2018-01-05       3      -6   多云~晴       西北风   1-2级   50       优   \n2018-01-06  2018-01-06       2      -5   多云~阴       西南风   1-2级   32       优   \n2018-01-07  2018-01-07       2      -4   阴~多云       西南风   1-2级   59       良   \n2018-01-08  2018-01-08       2      -6      晴       西北风   4-5级   50       优   \n2018-01-09  2018-01-09       1      -8      晴       西北风   3-4级   34       优   \n2018-01-10  2018-01-10      -2     -10      晴       西北风   1-2级   26       优   \n\n            aqiLevel  \nymd                   \n2018-01-05         1  \n2018-01-06         1  \n2018-01-07         2  \n2018-01-08         1  \n2018-01-09         1  \n2018-01-10         1  ",
      "text/html": "<div>\n<style scoped>\n    .dataframe tbody tr th:only-of-type {\n        vertical-align: middle;\n    }\n\n    .dataframe tbody tr th {\n        vertical-align: top;\n    }\n\n    .dataframe thead th {\n        text-align: right;\n    }\n</style>\n<table border=\"1\" class=\"dataframe\">\n  <thead>\n    <tr style=\"text-align: right;\">\n      <th></th>\n      <th>ymd</th>\n      <th>bWendu</th>\n      <th>yWendu</th>\n      <th>tianqi</th>\n      <th>fengxiang</th>\n      <th>fengli</th>\n      <th>aqi</th>\n      <th>aqiInfo</th>\n      <th>aqiLevel</th>\n    </tr>\n    <tr>\n      <th>ymd</th>\n      <th></th>\n      <th></th>\n      <th></th>\n      <th></th>\n      <th></th>\n      <th></th>\n      <th></th>\n      <th></th>\n      <th></th>\n    </tr>\n  </thead>\n  <tbody>\n    <tr>\n      <th>2018-01-05</th>\n      <td>2018-01-05</td>\n      <td>3</td>\n      <td>-6</td>\n      <td>多云~晴</td>\n      <td>西北风</td>\n      <td>1-2级</td>\n      <td>50</td>\n      <td>优</td>\n      <td>1</td>\n    </tr>\n    <tr>\n      <th>2018-01-06</th>\n      <td>2018-01-06</td>\n      <td>2</td>\n      <td>-5</td>\n      <td>多云~阴</td>\n      <td>西南风</td>\n      <td>1-2级</td>\n      <td>32</td>\n      <td>优</td>\n      <td>1</td>\n    </tr>\n    <tr>\n      <th>2018-01-07</th>\n      <td>2018-01-07</td>\n      <td>2</td>\n      <td>-4</td>\n      <td>阴~多云</td>\n      <td>西南风</td>\n      <td>1-2级</td>\n      <td>59</td>\n      <td>良</td>\n      <td>2</td>\n    </tr>\n    <tr>\n      <th>2018-01-08</th>\n      <td>2018-01-08</td>\n      <td>2</td>\n      <td>-6</td>\n      <td>晴</td>\n      <td>西北风</td>\n      <td>4-5级</td>\n      <td>50</td>\n      <td>优</td>\n      <td>1</td>\n    </tr>\n    <tr>\n      <th>2018-01-09</th>\n      <td>2018-01-09</td>\n      <td>1</td>\n      <td>-8</td>\n      <td>晴</td>\n      <td>西北风</td>\n      <td>3-4级</td>\n      <td>34</td>\n      <td>优</td>\n      <td>1</td>\n    </tr>\n    <tr>\n      <th>2018-01-10</th>\n      <td>2018-01-10</td>\n      <td>-2</td>\n      <td>-10</td>\n      <td>晴</td>\n      <td>西北风</td>\n      <td>1-2级</td>\n      <td>26</td>\n      <td>优</td>\n      <td>1</td>\n    </tr>\n  </tbody>\n</table>\n</div>"
     },
     "execution_count": 8,
     "metadata": {},
     "output_type": "execute_result"
    }
   ],
   "source": [
    "# 日期区间\n",
    "df.loc['2018-01-05':'2018-01-10']"
   ]
  },
  {
   "cell_type": "code",
   "execution_count": 9,
   "metadata": {},
   "outputs": [
    {
     "data": {
      "text/plain": "                   ymd  bWendu  yWendu tianqi fengxiang fengli  aqi aqiInfo  \\\nymd                                                                           \n2018-03-01  2018-03-01       8      -3     多云       西南风   1-2级   46       优   \n2018-03-02  2018-03-02       9      -1   晴~多云        北风   1-2级   95       良   \n2018-03-03  2018-03-03      13       3   多云~阴        北风   1-2级  214    重度污染   \n2018-03-04  2018-03-04       7      -2   阴~多云       东南风   1-2级  144    轻度污染   \n2018-03-05  2018-03-05       8      -3      晴        南风   1-2级   94       良   \n2018-03-06  2018-03-06       6      -3   多云~阴       东南风   3-4级   67       良   \n2018-03-07  2018-03-07       6      -2   阴~多云        北风   1-2级   65       良   \n2018-03-08  2018-03-08       8      -4      晴       东北风   1-2级   62       良   \n2018-03-09  2018-03-09      10      -2     多云       西南风   1-2级  132    轻度污染   \n2018-03-10  2018-03-10      14      -2      晴       东南风   1-2级  171    中度污染   \n2018-03-11  2018-03-11      11       0     多云        南风   1-2级   81       良   \n2018-03-12  2018-03-12      15       3   多云~晴        南风   1-2级  174    中度污染   \n2018-03-13  2018-03-13      17       5   晴~多云        南风   1-2级  287    重度污染   \n2018-03-14  2018-03-14      15       6   多云~阴       东北风   1-2级  293    重度污染   \n2018-03-15  2018-03-15      12      -1   多云~晴       东北风   3-4级   70       良   \n2018-03-16  2018-03-16      10      -1     多云        南风   1-2级   58       良   \n2018-03-17  2018-03-17       4       0   小雨~阴        南风   1-2级   81       良   \n2018-03-18  2018-03-18      13       1   多云~晴       西南风   1-2级  134    轻度污染   \n2018-03-19  2018-03-19      13       2     多云        东风   1-2级  107    轻度污染   \n2018-03-20  2018-03-20      10      -2     多云        南风   1-2级   41       优   \n2018-03-21  2018-03-21      11       1     多云       西南风   1-2级   76       良   \n2018-03-22  2018-03-22      17       4   晴~多云       西南风   1-2级  112    轻度污染   \n2018-03-23  2018-03-23      18       5     多云        北风   1-2级  146    轻度污染   \n2018-03-24  2018-03-24      22       5      晴       西南风   1-2级  119    轻度污染   \n2018-03-25  2018-03-25      24       7      晴        南风   1-2级   78       良   \n2018-03-26  2018-03-26      25       7     多云       西南风   1-2级  151    中度污染   \n2018-03-27  2018-03-27      27      11      晴        南风   1-2级  243    重度污染   \n2018-03-28  2018-03-28      25       9   多云~晴        东风   1-2级  387    严重污染   \n2018-03-29  2018-03-29      19       7      晴        南风   1-2级  119    轻度污染   \n2018-03-30  2018-03-30      18       8     多云        南风   1-2级   68       良   \n2018-03-31  2018-03-31      23       9   多云~晴        南风   1-2级  125    轻度污染   \n\n            aqiLevel  \nymd                   \n2018-03-01         1  \n2018-03-02         2  \n2018-03-03         5  \n2018-03-04         3  \n2018-03-05         2  \n2018-03-06         2  \n2018-03-07         2  \n2018-03-08         2  \n2018-03-09         3  \n2018-03-10         4  \n2018-03-11         2  \n2018-03-12         4  \n2018-03-13         5  \n2018-03-14         5  \n2018-03-15         2  \n2018-03-16         2  \n2018-03-17         2  \n2018-03-18         3  \n2018-03-19         3  \n2018-03-20         1  \n2018-03-21         2  \n2018-03-22         3  \n2018-03-23         3  \n2018-03-24         3  \n2018-03-25         2  \n2018-03-26         4  \n2018-03-27         5  \n2018-03-28         6  \n2018-03-29         3  \n2018-03-30         2  \n2018-03-31         3  ",
      "text/html": "<div>\n<style scoped>\n    .dataframe tbody tr th:only-of-type {\n        vertical-align: middle;\n    }\n\n    .dataframe tbody tr th {\n        vertical-align: top;\n    }\n\n    .dataframe thead th {\n        text-align: right;\n    }\n</style>\n<table border=\"1\" class=\"dataframe\">\n  <thead>\n    <tr style=\"text-align: right;\">\n      <th></th>\n      <th>ymd</th>\n      <th>bWendu</th>\n      <th>yWendu</th>\n      <th>tianqi</th>\n      <th>fengxiang</th>\n      <th>fengli</th>\n      <th>aqi</th>\n      <th>aqiInfo</th>\n      <th>aqiLevel</th>\n    </tr>\n    <tr>\n      <th>ymd</th>\n      <th></th>\n      <th></th>\n      <th></th>\n      <th></th>\n      <th></th>\n      <th></th>\n      <th></th>\n      <th></th>\n      <th></th>\n    </tr>\n  </thead>\n  <tbody>\n    <tr>\n      <th>2018-03-01</th>\n      <td>2018-03-01</td>\n      <td>8</td>\n      <td>-3</td>\n      <td>多云</td>\n      <td>西南风</td>\n      <td>1-2级</td>\n      <td>46</td>\n      <td>优</td>\n      <td>1</td>\n    </tr>\n    <tr>\n      <th>2018-03-02</th>\n      <td>2018-03-02</td>\n      <td>9</td>\n      <td>-1</td>\n      <td>晴~多云</td>\n      <td>北风</td>\n      <td>1-2级</td>\n      <td>95</td>\n      <td>良</td>\n      <td>2</td>\n    </tr>\n    <tr>\n      <th>2018-03-03</th>\n      <td>2018-03-03</td>\n      <td>13</td>\n      <td>3</td>\n      <td>多云~阴</td>\n      <td>北风</td>\n      <td>1-2级</td>\n      <td>214</td>\n      <td>重度污染</td>\n      <td>5</td>\n    </tr>\n    <tr>\n      <th>2018-03-04</th>\n      <td>2018-03-04</td>\n      <td>7</td>\n      <td>-2</td>\n      <td>阴~多云</td>\n      <td>东南风</td>\n      <td>1-2级</td>\n      <td>144</td>\n      <td>轻度污染</td>\n      <td>3</td>\n    </tr>\n    <tr>\n      <th>2018-03-05</th>\n      <td>2018-03-05</td>\n      <td>8</td>\n      <td>-3</td>\n      <td>晴</td>\n      <td>南风</td>\n      <td>1-2级</td>\n      <td>94</td>\n      <td>良</td>\n      <td>2</td>\n    </tr>\n    <tr>\n      <th>2018-03-06</th>\n      <td>2018-03-06</td>\n      <td>6</td>\n      <td>-3</td>\n      <td>多云~阴</td>\n      <td>东南风</td>\n      <td>3-4级</td>\n      <td>67</td>\n      <td>良</td>\n      <td>2</td>\n    </tr>\n    <tr>\n      <th>2018-03-07</th>\n      <td>2018-03-07</td>\n      <td>6</td>\n      <td>-2</td>\n      <td>阴~多云</td>\n      <td>北风</td>\n      <td>1-2级</td>\n      <td>65</td>\n      <td>良</td>\n      <td>2</td>\n    </tr>\n    <tr>\n      <th>2018-03-08</th>\n      <td>2018-03-08</td>\n      <td>8</td>\n      <td>-4</td>\n      <td>晴</td>\n      <td>东北风</td>\n      <td>1-2级</td>\n      <td>62</td>\n      <td>良</td>\n      <td>2</td>\n    </tr>\n    <tr>\n      <th>2018-03-09</th>\n      <td>2018-03-09</td>\n      <td>10</td>\n      <td>-2</td>\n      <td>多云</td>\n      <td>西南风</td>\n      <td>1-2级</td>\n      <td>132</td>\n      <td>轻度污染</td>\n      <td>3</td>\n    </tr>\n    <tr>\n      <th>2018-03-10</th>\n      <td>2018-03-10</td>\n      <td>14</td>\n      <td>-2</td>\n      <td>晴</td>\n      <td>东南风</td>\n      <td>1-2级</td>\n      <td>171</td>\n      <td>中度污染</td>\n      <td>4</td>\n    </tr>\n    <tr>\n      <th>2018-03-11</th>\n      <td>2018-03-11</td>\n      <td>11</td>\n      <td>0</td>\n      <td>多云</td>\n      <td>南风</td>\n      <td>1-2级</td>\n      <td>81</td>\n      <td>良</td>\n      <td>2</td>\n    </tr>\n    <tr>\n      <th>2018-03-12</th>\n      <td>2018-03-12</td>\n      <td>15</td>\n      <td>3</td>\n      <td>多云~晴</td>\n      <td>南风</td>\n      <td>1-2级</td>\n      <td>174</td>\n      <td>中度污染</td>\n      <td>4</td>\n    </tr>\n    <tr>\n      <th>2018-03-13</th>\n      <td>2018-03-13</td>\n      <td>17</td>\n      <td>5</td>\n      <td>晴~多云</td>\n      <td>南风</td>\n      <td>1-2级</td>\n      <td>287</td>\n      <td>重度污染</td>\n      <td>5</td>\n    </tr>\n    <tr>\n      <th>2018-03-14</th>\n      <td>2018-03-14</td>\n      <td>15</td>\n      <td>6</td>\n      <td>多云~阴</td>\n      <td>东北风</td>\n      <td>1-2级</td>\n      <td>293</td>\n      <td>重度污染</td>\n      <td>5</td>\n    </tr>\n    <tr>\n      <th>2018-03-15</th>\n      <td>2018-03-15</td>\n      <td>12</td>\n      <td>-1</td>\n      <td>多云~晴</td>\n      <td>东北风</td>\n      <td>3-4级</td>\n      <td>70</td>\n      <td>良</td>\n      <td>2</td>\n    </tr>\n    <tr>\n      <th>2018-03-16</th>\n      <td>2018-03-16</td>\n      <td>10</td>\n      <td>-1</td>\n      <td>多云</td>\n      <td>南风</td>\n      <td>1-2级</td>\n      <td>58</td>\n      <td>良</td>\n      <td>2</td>\n    </tr>\n    <tr>\n      <th>2018-03-17</th>\n      <td>2018-03-17</td>\n      <td>4</td>\n      <td>0</td>\n      <td>小雨~阴</td>\n      <td>南风</td>\n      <td>1-2级</td>\n      <td>81</td>\n      <td>良</td>\n      <td>2</td>\n    </tr>\n    <tr>\n      <th>2018-03-18</th>\n      <td>2018-03-18</td>\n      <td>13</td>\n      <td>1</td>\n      <td>多云~晴</td>\n      <td>西南风</td>\n      <td>1-2级</td>\n      <td>134</td>\n      <td>轻度污染</td>\n      <td>3</td>\n    </tr>\n    <tr>\n      <th>2018-03-19</th>\n      <td>2018-03-19</td>\n      <td>13</td>\n      <td>2</td>\n      <td>多云</td>\n      <td>东风</td>\n      <td>1-2级</td>\n      <td>107</td>\n      <td>轻度污染</td>\n      <td>3</td>\n    </tr>\n    <tr>\n      <th>2018-03-20</th>\n      <td>2018-03-20</td>\n      <td>10</td>\n      <td>-2</td>\n      <td>多云</td>\n      <td>南风</td>\n      <td>1-2级</td>\n      <td>41</td>\n      <td>优</td>\n      <td>1</td>\n    </tr>\n    <tr>\n      <th>2018-03-21</th>\n      <td>2018-03-21</td>\n      <td>11</td>\n      <td>1</td>\n      <td>多云</td>\n      <td>西南风</td>\n      <td>1-2级</td>\n      <td>76</td>\n      <td>良</td>\n      <td>2</td>\n    </tr>\n    <tr>\n      <th>2018-03-22</th>\n      <td>2018-03-22</td>\n      <td>17</td>\n      <td>4</td>\n      <td>晴~多云</td>\n      <td>西南风</td>\n      <td>1-2级</td>\n      <td>112</td>\n      <td>轻度污染</td>\n      <td>3</td>\n    </tr>\n    <tr>\n      <th>2018-03-23</th>\n      <td>2018-03-23</td>\n      <td>18</td>\n      <td>5</td>\n      <td>多云</td>\n      <td>北风</td>\n      <td>1-2级</td>\n      <td>146</td>\n      <td>轻度污染</td>\n      <td>3</td>\n    </tr>\n    <tr>\n      <th>2018-03-24</th>\n      <td>2018-03-24</td>\n      <td>22</td>\n      <td>5</td>\n      <td>晴</td>\n      <td>西南风</td>\n      <td>1-2级</td>\n      <td>119</td>\n      <td>轻度污染</td>\n      <td>3</td>\n    </tr>\n    <tr>\n      <th>2018-03-25</th>\n      <td>2018-03-25</td>\n      <td>24</td>\n      <td>7</td>\n      <td>晴</td>\n      <td>南风</td>\n      <td>1-2级</td>\n      <td>78</td>\n      <td>良</td>\n      <td>2</td>\n    </tr>\n    <tr>\n      <th>2018-03-26</th>\n      <td>2018-03-26</td>\n      <td>25</td>\n      <td>7</td>\n      <td>多云</td>\n      <td>西南风</td>\n      <td>1-2级</td>\n      <td>151</td>\n      <td>中度污染</td>\n      <td>4</td>\n    </tr>\n    <tr>\n      <th>2018-03-27</th>\n      <td>2018-03-27</td>\n      <td>27</td>\n      <td>11</td>\n      <td>晴</td>\n      <td>南风</td>\n      <td>1-2级</td>\n      <td>243</td>\n      <td>重度污染</td>\n      <td>5</td>\n    </tr>\n    <tr>\n      <th>2018-03-28</th>\n      <td>2018-03-28</td>\n      <td>25</td>\n      <td>9</td>\n      <td>多云~晴</td>\n      <td>东风</td>\n      <td>1-2级</td>\n      <td>387</td>\n      <td>严重污染</td>\n      <td>6</td>\n    </tr>\n    <tr>\n      <th>2018-03-29</th>\n      <td>2018-03-29</td>\n      <td>19</td>\n      <td>7</td>\n      <td>晴</td>\n      <td>南风</td>\n      <td>1-2级</td>\n      <td>119</td>\n      <td>轻度污染</td>\n      <td>3</td>\n    </tr>\n    <tr>\n      <th>2018-03-30</th>\n      <td>2018-03-30</td>\n      <td>18</td>\n      <td>8</td>\n      <td>多云</td>\n      <td>南风</td>\n      <td>1-2级</td>\n      <td>68</td>\n      <td>良</td>\n      <td>2</td>\n    </tr>\n    <tr>\n      <th>2018-03-31</th>\n      <td>2018-03-31</td>\n      <td>23</td>\n      <td>9</td>\n      <td>多云~晴</td>\n      <td>南风</td>\n      <td>1-2级</td>\n      <td>125</td>\n      <td>轻度污染</td>\n      <td>3</td>\n    </tr>\n  </tbody>\n</table>\n</div>"
     },
     "execution_count": 9,
     "metadata": {},
     "output_type": "execute_result"
    }
   ],
   "source": [
    "# 按月份前缀筛选\n",
    "df.loc['2018-03']"
   ]
  },
  {
   "cell_type": "code",
   "execution_count": 10,
   "metadata": {},
   "outputs": [
    {
     "data": {
      "text/plain": "DatetimeIndex(['2018-07-01', '2018-07-02', '2018-07-03', '2018-07-04',\n               '2018-07-05', '2018-07-06', '2018-07-07', '2018-07-08',\n               '2018-07-09', '2018-07-10', '2018-07-11', '2018-07-12',\n               '2018-07-13', '2018-07-14', '2018-07-15', '2018-07-16',\n               '2018-07-17', '2018-07-18', '2018-07-19', '2018-07-20',\n               '2018-07-21', '2018-07-22', '2018-07-23', '2018-07-24',\n               '2018-07-25', '2018-07-26', '2018-07-27', '2018-07-28',\n               '2018-07-29', '2018-07-30', '2018-07-31', '2018-08-01',\n               '2018-08-02', '2018-08-03', '2018-08-04', '2018-08-05',\n               '2018-08-06', '2018-08-07', '2018-08-08', '2018-08-09',\n               '2018-08-10', '2018-08-11', '2018-08-12', '2018-08-13',\n               '2018-08-14', '2018-08-15', '2018-08-16', '2018-08-17',\n               '2018-08-18', '2018-08-19', '2018-08-20', '2018-08-21',\n               '2018-08-22', '2018-08-23', '2018-08-24', '2018-08-25',\n               '2018-08-26', '2018-08-27', '2018-08-28', '2018-08-29',\n               '2018-08-30', '2018-08-31', '2018-09-01', '2018-09-02',\n               '2018-09-03', '2018-09-04', '2018-09-05', '2018-09-06',\n               '2018-09-07', '2018-09-08', '2018-09-09', '2018-09-10',\n               '2018-09-11', '2018-09-12', '2018-09-13', '2018-09-14',\n               '2018-09-15', '2018-09-16', '2018-09-17', '2018-09-18',\n               '2018-09-19', '2018-09-20', '2018-09-21', '2018-09-22',\n               '2018-09-23', '2018-09-24', '2018-09-25', '2018-09-26',\n               '2018-09-27', '2018-09-28', '2018-09-29', '2018-09-30'],\n              dtype='datetime64[ns]', name='ymd', freq=None)"
     },
     "execution_count": 10,
     "metadata": {},
     "output_type": "execute_result"
    }
   ],
   "source": [
    "# 按月份前缀筛选\n",
    "df.loc[\"2018-07\":\"2018-09\"].index"
   ]
  },
  {
   "cell_type": "code",
   "execution_count": 11,
   "metadata": {},
   "outputs": [
    {
     "data": {
      "text/plain": "                   ymd  bWendu  yWendu tianqi fengxiang fengli  aqi aqiInfo  \\\nymd                                                                           \n2018-01-01  2018-01-01       3      -6   晴~多云       东北风   1-2级   59       良   \n2018-01-02  2018-01-02       2      -5   阴~多云       东北风   1-2级   49       优   \n2018-01-03  2018-01-03       2      -5     多云        北风   1-2级   28       优   \n2018-01-04  2018-01-04       0      -8      阴       东北风   1-2级   28       优   \n2018-01-05  2018-01-05       3      -6   多云~晴       西北风   1-2级   50       优   \n\n            aqiLevel  \nymd                   \n2018-01-01         2  \n2018-01-02         1  \n2018-01-03         1  \n2018-01-04         1  \n2018-01-05         1  ",
      "text/html": "<div>\n<style scoped>\n    .dataframe tbody tr th:only-of-type {\n        vertical-align: middle;\n    }\n\n    .dataframe tbody tr th {\n        vertical-align: top;\n    }\n\n    .dataframe thead th {\n        text-align: right;\n    }\n</style>\n<table border=\"1\" class=\"dataframe\">\n  <thead>\n    <tr style=\"text-align: right;\">\n      <th></th>\n      <th>ymd</th>\n      <th>bWendu</th>\n      <th>yWendu</th>\n      <th>tianqi</th>\n      <th>fengxiang</th>\n      <th>fengli</th>\n      <th>aqi</th>\n      <th>aqiInfo</th>\n      <th>aqiLevel</th>\n    </tr>\n    <tr>\n      <th>ymd</th>\n      <th></th>\n      <th></th>\n      <th></th>\n      <th></th>\n      <th></th>\n      <th></th>\n      <th></th>\n      <th></th>\n      <th></th>\n    </tr>\n  </thead>\n  <tbody>\n    <tr>\n      <th>2018-01-01</th>\n      <td>2018-01-01</td>\n      <td>3</td>\n      <td>-6</td>\n      <td>晴~多云</td>\n      <td>东北风</td>\n      <td>1-2级</td>\n      <td>59</td>\n      <td>良</td>\n      <td>2</td>\n    </tr>\n    <tr>\n      <th>2018-01-02</th>\n      <td>2018-01-02</td>\n      <td>2</td>\n      <td>-5</td>\n      <td>阴~多云</td>\n      <td>东北风</td>\n      <td>1-2级</td>\n      <td>49</td>\n      <td>优</td>\n      <td>1</td>\n    </tr>\n    <tr>\n      <th>2018-01-03</th>\n      <td>2018-01-03</td>\n      <td>2</td>\n      <td>-5</td>\n      <td>多云</td>\n      <td>北风</td>\n      <td>1-2级</td>\n      <td>28</td>\n      <td>优</td>\n      <td>1</td>\n    </tr>\n    <tr>\n      <th>2018-01-04</th>\n      <td>2018-01-04</td>\n      <td>0</td>\n      <td>-8</td>\n      <td>阴</td>\n      <td>东北风</td>\n      <td>1-2级</td>\n      <td>28</td>\n      <td>优</td>\n      <td>1</td>\n    </tr>\n    <tr>\n      <th>2018-01-05</th>\n      <td>2018-01-05</td>\n      <td>3</td>\n      <td>-6</td>\n      <td>多云~晴</td>\n      <td>西北风</td>\n      <td>1-2级</td>\n      <td>50</td>\n      <td>优</td>\n      <td>1</td>\n    </tr>\n  </tbody>\n</table>\n</div>"
     },
     "execution_count": 11,
     "metadata": {},
     "output_type": "execute_result"
    }
   ],
   "source": [
    "# 按年份前缀筛选\n",
    "df.loc[\"2018\"].head()"
   ]
  },
  {
   "cell_type": "markdown",
   "metadata": {},
   "source": [
    "### 4、方便的获取周、月、季度\n",
    "\n",
    "Timestamp、DatetimeIndex支持大量的属性可以获取日期分量：  \n",
    "https://pandas.pydata.org/pandas-docs/stable/user_guide/timeseries.html#time-date-components"
   ]
  },
  {
   "cell_type": "code",
   "execution_count": 12,
   "metadata": {},
   "outputs": [
    {
     "data": {
      "text/plain": "Int64Index([ 1,  1,  1,  1,  1,  1,  1,  2,  2,  2,\n            ...\n            51, 51, 52, 52, 52, 52, 52, 52, 52,  1],\n           dtype='int64', name='ymd', length=365)"
     },
     "execution_count": 12,
     "metadata": {},
     "output_type": "execute_result"
    }
   ],
   "source": [
    "# 周数字列表\n",
    "df.index.week"
   ]
  },
  {
   "cell_type": "code",
   "execution_count": 13,
   "metadata": {},
   "outputs": [
    {
     "data": {
      "text/plain": "Int64Index([ 1,  1,  1,  1,  1,  1,  1,  1,  1,  1,\n            ...\n            12, 12, 12, 12, 12, 12, 12, 12, 12, 12],\n           dtype='int64', name='ymd', length=365)"
     },
     "execution_count": 13,
     "metadata": {},
     "output_type": "execute_result"
    }
   ],
   "source": [
    "# 月数字列表\n",
    "df.index.month"
   ]
  },
  {
   "cell_type": "code",
   "execution_count": 14,
   "metadata": {},
   "outputs": [
    {
     "data": {
      "text/plain": "Int64Index([1, 1, 1, 1, 1, 1, 1, 1, 1, 1,\n            ...\n            4, 4, 4, 4, 4, 4, 4, 4, 4, 4],\n           dtype='int64', name='ymd', length=365)"
     },
     "execution_count": 14,
     "metadata": {},
     "output_type": "execute_result"
    }
   ],
   "source": [
    "# 季度数字列表\n",
    "df.index.quarter"
   ]
  },
  {
   "cell_type": "markdown",
   "metadata": {},
   "source": [
    "### 5、统计每周、每月、每个季度的最高温度"
   ]
  },
  {
   "cell_type": "markdown",
   "metadata": {},
   "source": [
    "#### 统计每周的数据"
   ]
  },
  {
   "cell_type": "code",
   "execution_count": 15,
   "metadata": {},
   "outputs": [
    {
     "data": {
      "text/plain": "ymd\n1    3\n2    6\n3    7\n4   -1\n5    4\nName: bWendu, dtype: int32"
     },
     "execution_count": 15,
     "metadata": {},
     "output_type": "execute_result"
    }
   ],
   "source": [
    "df.groupby(df.index.week)[\"bWendu\"].max().head()"
   ]
  },
  {
   "cell_type": "code",
   "execution_count": 16,
   "metadata": {},
   "outputs": [
    {
     "data": {
      "text/plain": "<matplotlib.axes._subplots.AxesSubplot at 0x7f4d995ae310>"
     },
     "execution_count": 16,
     "metadata": {},
     "output_type": "execute_result"
    },
    {
     "data": {
      "text/plain": "<Figure size 432x288 with 1 Axes>",
      "image/png": "[encoded data removed]"
     },
     "metadata": {
      "needs_background": "light"
     },
     "output_type": "display_data"
    }
   ],
   "source": [
    "df.groupby(df.index.week)[\"bWendu\"].max().plot()"
   ]
  },
  {
   "cell_type": "markdown",
   "metadata": {},
   "source": [
    "#### 统计每个月的数据"
   ]
  },
  {
   "cell_type": "code",
   "execution_count": 17,
   "metadata": {},
   "outputs": [
    {
     "data": {
      "text/plain": "ymd\n1      7\n2     12\n3     27\n4     30\n5     35\n6     38\n7     37\n8     36\n9     31\n10    25\n11    18\n12    10\nName: bWendu, dtype: int32"
     },
     "execution_count": 17,
     "metadata": {},
     "output_type": "execute_result"
    }
   ],
   "source": [
    "df.groupby(df.index.month)[\"bWendu\"].max()"
   ]
  },
  {
   "cell_type": "code",
   "execution_count": 18,
   "metadata": {},
   "outputs": [
    {
     "data": {
      "text/plain": "<matplotlib.axes._subplots.AxesSubplot at 0x7f4d98d64950>"
     },
     "execution_count": 18,
     "metadata": {},
     "output_type": "execute_result"
    },
    {
     "data": {
      "text/plain": "<Figure size 432x288 with 1 Axes>",
      "image/png": "[encoded data removed]"
     },
     "metadata": {
      "needs_background": "light"
     },
     "output_type": "display_data"
    }
   ],
   "source": [
    "df.groupby(df.index.month)[\"bWendu\"].max().plot()"
   ]
  },
  {
   "cell_type": "markdown",
   "metadata": {},
   "source": [
    "#### 统计每个季度的数据"
   ]
  },
  {
   "cell_type": "code",
   "execution_count": 19,
   "metadata": {},
   "outputs": [
    {
     "data": {
      "text/plain": "ymd\n1    27\n2    38\n3    37\n4    25\nName: bWendu, dtype: int32"
     },
     "execution_count": 19,
     "metadata": {},
     "output_type": "execute_result"
    }
   ],
   "source": [
    "df.groupby(df.index.quarter)[\"bWendu\"].max()"
   ]
  },
  {
   "cell_type": "code",
   "execution_count": 20,
   "metadata": {},
   "outputs": [
    {
     "data": {
      "text/plain": "<matplotlib.axes._subplots.AxesSubplot at 0x7f4d98cdcc10>"
     },
     "execution_count": 20,
     "metadata": {},
     "output_type": "execute_result"
    },
    {
     "data": {
      "text/plain": "<Figure size 432x288 with 1 Axes>",
      "image/png": "[encoded data removed]"
     },
     "metadata": {
      "needs_background": "light"
     },
     "output_type": "display_data"
    }
   ],
   "source": [
    "df.groupby(df.index.quarter)[\"bWendu\"].max().plot()"
   ]
  },
  {
   "cell_type": "code",
   "execution_count": 20,
   "metadata": {},
   "outputs": [],
   "source": []
  }
 ],
 "metadata": {
  "kernelspec": {
   "display_name": "Python 3",
   "language": "python",
   "name": "python3"
  },
  "language_info": {
   "codemirror_mode": {
    "name": "ipython",
    "version": 3
   },
   "file_extension": ".py",
   "mimetype": "text/x-python",
   "name": "python",
   "nbconvert_exporter": "python",
   "pygments_lexer": "ipython3",
   "version": "3.7.4"
  }
 },
 "nbformat": 4,
 "nbformat_minor": 2
}